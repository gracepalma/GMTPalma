{
 "cells": [
  {
   "cell_type": "markdown",
   "metadata": {},
   "source": [
    "# SYD9DAT - Homework 2 - Grace Palma\n",
    "\n",
    "### Course Project\n",
    "\n",
    "<b>SETUP</b>\n",
    "\n",
    "* Sign up for an AWS account - Username: gracepalma\n",
    "\n",
    "<b>COMMUNICATION</b>\n",
    "\n",
    "Imagine you are trying to describe Linear Regression to someone - but they have no programming/maths experience! How would you explain...\n",
    "\n",
    "<b><U> Linear Regression - the overall process?</U></b>\n",
    "\n",
    "Linear regression is a method used for identifying the relationship between a predictor and an outcome, the most basic form of linear regression is simple linear regression where a response is predicted based on a single variable. Linear regression methods operate under the assumption that there is a linear relationship between the predictor and the response, this is the assumption that there is direct proportionality betweeen variables that when plotten on a graph, it traces a straight line.\n",
    "\n",
    "For example, we want to look at the relationship between hours spent studying (predictor) and gpa scores (outcome). We can create a simple linear regression model to identify an approximation of how hours spent studying impact gpa scores.\n",
    "\n",
    "Simple linear regression uses this equation <b>Y = β0 + β1X</b>\n",
    "\n",
    "<i>Where Y is the outcome, X is the predictor, β0 and β1 represent two unknown constants/model coefficients for the intercept and the slope. The intercept β0 is the outcome (Y) when the predictor (X) is 0  and the slope β1 is the estimated value or effect of the predictor on the outcome.</i>\n",
    "\n",
    "For our exampe above the equation would look something like this: \n",
    "\n",
    "    GPA score = β0 + β1(Hours spent studying)\n",
    "\n",
    "Once we've used our training data to get the estimates of β0 and β1 we can now predict gpa scores based on hours spent studying. As previously stated, linear regression assumes direct proportionality between variables.. that means in this model the relationship could either find a direct relationship or an inverse between variables:"
   ]
  },
  {
   "cell_type": "code",
   "execution_count": 6,
   "metadata": {
    "collapsed": false
   },
   "outputs": [
    {
     "data": {
      "text/html": [
       "<img src=\"https://image.slidesharecdn.com/labreportwalkthrough-140918235306-phpapp02/95/lab-report-walk-through-16-638.jpg\"/>"
      ],
      "text/plain": [
       "<IPython.core.display.Image object>"
      ]
     },
     "execution_count": 6,
     "metadata": {},
     "output_type": "execute_result"
    }
   ],
   "source": [
    "from IPython.display import Image\n",
    "from IPython.core.display import HTML\n",
    "Image(url= \"https://image.slidesharecdn.com/labreportwalkthrough-140918235306-phpapp02/95/lab-report-walk-through-16-638.jpg\")"
   ]
  },
  {
   "cell_type": "markdown",
   "metadata": {},
   "source": [
    "Direct linear relationship in this example would mean that as the number of hours spent on studying increases, GPA scores also increase - ie. those who spent more hours studying had better grade point average scores\n",
    "\n",
    "and inverse linear relationship in this example mean that as the number of hours spent studying increases, student's gpa scores decreases - ie. the more people study, the worse they scored.\n",
    "\n",
    "</N>\n",
    "<B><u>What a p-value is?</u></B>\n",
    "\n",
    "Hypothesis tests are tests used to measure the validity of a claim that is made about a sample or a population. When performing hypothesis tests, the p-value is a value between 0 - 1 which is used to determine the statistical significance of your results. Drawing back to the example above using a cut-off p-value of 0.05 ..\n",
    "\n",
    "If we hypothesize that hours spent studying has nothing to do with GPA scores and we find that the p-value we get from our sample is 0.001 our hypothesis will be rejected. Which means that based on our sample it appears that number of hours spent studying does have an impact on GPA scores.\n",
    "\n",
    "This is because the probability of us mistakenly rejecting our claims that hours spent studying has no impact on GPA scores is low -- much lower than our assigned p-value cut-off (0.001 < 0.05). Simply put there is a low chance of us incorrectly claiming that hours studying is related to GPA scores.\n",
    "\n",
    "</N>\n",
    "<B><u>What R-Squared means?</u></B>\n",
    "\n",
    "Residual sum of squares (RSS) or also known as the sum of squared residuals (SSR) is a statistical measure of how close the data is to the fitted regression line. It is a measure of the variation between the data and the model. \n",
    "Hence an RSS that is closer to 1 would indicate a model that tightly fits your data.\n",
    "\n",
    "<b><U>Read the paper Useful things to know about machine learning.</U></b>\n",
    "\n",
    "What have we covered so far from this paper?\n",
    "\n",
    "* Classifiers - \n",
    "* K-nearest neighbor - \n",
    "* Logistic regression - \n",
    "* Decision trees - \n",
    "* Accuracy/Error rate - \n",
    "* Squared error - \n",
    "* Bias & variance - \n",
    "* Overfitting - \n",
    "* Hypothesis testing - \n",
    "* Cross validation - \n",
    "* Regularisation - \n",
    "\n",
    "Explain sections 6-13 in your own words.\n",
    "\n",
    "Section 6: Intuition fails in high dimensions \n",
    "\n",
    "* Section 6 explains the curse of dimensionality - this refers to the obstructive effect of having a large number of features/dimensions on many machine learning algorithms and methods. For example, if we find that only 2 dimensions turn out to be relevant in a model that looks at 100 dimensions, noise from all 98 irrelevant dimensions saturates that of the 2 relevant ones which makes making predictions arbitrary. However the same issue still arises even when majority of the dimensions are relevant.. this is because examples look very similar when in high dimensions.\n",
    "\n",
    "Section 7: Theoretical guarantees are not what they seem \n",
    "\n",
    "* In machine learning, there is no certainty in determining the accuracy of a model.. its main purpose is to ensure understanding and conceptualisation of algorithm designs.  Always exercise a level of caution whenever dealing with theoretical guarantees in machine learning because the bounds obtained are often loose. \n",
    "\n",
    "\n",
    "Section 8: Feature engineering is the key \n",
    "\n",
    "* Machine learning is an iterative process of learning, analyising and modifying data (ie. feature engineering). Feature engineering is an integral step in machine learning because it ensures that the appropriate features are selected for your model.\n",
    "\n",
    "Section 9: More data beats a cleverer algorithm\n",
    "\n",
    "* This section explains that as a general rule, a more complex or clever algorithim with less data is often times less effective than a simple algorithm with more data. \n",
    "\n",
    "Section 10: Learn many models, not just one \n",
    "\n",
    "* The best models and learners often varies from application to application, hence there is a current move towards models that combine many model variations, which has been found to often yeild much better results. Several techniques can be used in creating such models: a) bagging is done by generating random variations of the training data through resampling, b) boosting is done by varrying the weights allocated to the training samples and c) stacking is the process by which a classifiers output becomes the input of a learner which will decide how best to combine them.\n",
    "\n",
    "Section 11: Simplicity does not imply accuracy \n",
    "\n",
    "* Section 11 points out that there is no necessary relationship between the number of parameters used in a model and its tendency to overfit. Simpler hypotheses are preferred not because it leads to more accuracy but rather that simplicity is its own merit.\n",
    "\n",
    "Section 12: Representable does not imply learnable \n",
    "\n",
    "* This section highlights the fact that some functions that are representable cannot always be learned. Some considerations that could impact whether a function is learnable or not are time, data and memory.\n",
    "\n",
    "Section 13: Correlation does not imply causation \n",
    "\n",
    "* In machine learning, we often times deal with observational data rather than experimental data. Observational data do not alway include predictive variables that are controlled by the learner. Hence why it is limited in its ability to make causal inferences. However these predictions can be a useful tool or information to further investigate potential cause.\n",
    "\n",
    "\n",
    "<b><U>Machine Learning</U></b>\n",
    "Describe 3 ways we can select what features to use in a model.\n",
    "\n",
    "1. Domain knowldge on a specific field or topic can help dictate which features may be the most suitable to use in a model\n",
    "2. By looking at the correlation between features using scatterplots and correlation coefficients  \n",
    "2. Lasso Regularisation \n",
    "3. Look at the significant proportion of variable variance "
   ]
  },
  {
   "cell_type": "markdown",
   "metadata": {},
   "source": [
    "### Course Project\n",
    "* Create a github repository for your project and share it with Allen and Kieran over Slack.\n",
    "* Load the data you have gathered for your project into Python and run some summary statistics over the data. Are there any interesting features of the data that jump out?\n",
    "* Create some data visualisations that explore some aspect of your data set.\n",
    "* Are there any regresion or clustering techniques you could use in your project? Write them down (with the corresponding scikit learn function) and what you think you would get out of it. Try a preliminary model, if you get a chance (you can choose a small subset of features to begin with)."
   ]
  },
  {
   "cell_type": "code",
   "execution_count": 7,
   "metadata": {
    "collapsed": true
   },
   "outputs": [],
   "source": [
    "import numpy as np\n",
    "import pandas as pd"
   ]
  },
  {
   "cell_type": "code",
   "execution_count": 18,
   "metadata": {
    "collapsed": false
   },
   "outputs": [
    {
     "ename": "UnicodeDecodeError",
     "evalue": "'utf-8' codec can't decode byte 0x8e in position 6: invalid start byte",
     "output_type": "error",
     "traceback": [
      "\u001b[0;31m---------------------------------------------------------------------------\u001b[0m",
      "\u001b[0;31mUnicodeDecodeError\u001b[0m                        Traceback (most recent call last)",
      "\u001b[0;32m<ipython-input-18-3eb845010c60>\u001b[0m in \u001b[0;36m<module>\u001b[0;34m()\u001b[0m\n\u001b[1;32m      1\u001b[0m \u001b[0;31m#data file\u001b[0m\u001b[0;34m\u001b[0m\u001b[0;34m\u001b[0m\u001b[0m\n\u001b[0;32m----> 2\u001b[0;31m \u001b[0mdf\u001b[0m \u001b[0;34m=\u001b[0m \u001b[0mpd\u001b[0m\u001b[0;34m.\u001b[0m\u001b[0mread_csv\u001b[0m\u001b[0;34m(\u001b[0m\u001b[0;34m\"~/Desktop/Travel/TRAVEL_MERGED.csv\"\u001b[0m\u001b[0;34m)\u001b[0m\u001b[0;34m\u001b[0m\u001b[0m\n\u001b[0m\u001b[1;32m      3\u001b[0m \u001b[0;31m#df = pd.read_csv(\"/Users/gracepalma/Desktop/Travel/TRAVEL_MERGED.csv\")\u001b[0m\u001b[0;34m\u001b[0m\u001b[0;34m\u001b[0m\u001b[0m\n\u001b[1;32m      4\u001b[0m \u001b[0mdf\u001b[0m\u001b[0;34m.\u001b[0m\u001b[0mhead\u001b[0m\u001b[0;34m(\u001b[0m\u001b[0;36m10\u001b[0m\u001b[0;34m)\u001b[0m\u001b[0;34m\u001b[0m\u001b[0m\n",
      "\u001b[0;32m/anaconda/lib/python3.6/site-packages/pandas/io/parsers.py\u001b[0m in \u001b[0;36mparser_f\u001b[0;34m(filepath_or_buffer, sep, delimiter, header, names, index_col, usecols, squeeze, prefix, mangle_dupe_cols, dtype, engine, converters, true_values, false_values, skipinitialspace, skiprows, nrows, na_values, keep_default_na, na_filter, verbose, skip_blank_lines, parse_dates, infer_datetime_format, keep_date_col, date_parser, dayfirst, iterator, chunksize, compression, thousands, decimal, lineterminator, quotechar, quoting, escapechar, comment, encoding, dialect, tupleize_cols, error_bad_lines, warn_bad_lines, skipfooter, skip_footer, doublequote, delim_whitespace, as_recarray, compact_ints, use_unsigned, low_memory, buffer_lines, memory_map, float_precision)\u001b[0m\n\u001b[1;32m    644\u001b[0m                     skip_blank_lines=skip_blank_lines)\n\u001b[1;32m    645\u001b[0m \u001b[0;34m\u001b[0m\u001b[0m\n\u001b[0;32m--> 646\u001b[0;31m         \u001b[0;32mreturn\u001b[0m \u001b[0m_read\u001b[0m\u001b[0;34m(\u001b[0m\u001b[0mfilepath_or_buffer\u001b[0m\u001b[0;34m,\u001b[0m \u001b[0mkwds\u001b[0m\u001b[0;34m)\u001b[0m\u001b[0;34m\u001b[0m\u001b[0m\n\u001b[0m\u001b[1;32m    647\u001b[0m \u001b[0;34m\u001b[0m\u001b[0m\n\u001b[1;32m    648\u001b[0m     \u001b[0mparser_f\u001b[0m\u001b[0;34m.\u001b[0m\u001b[0m__name__\u001b[0m \u001b[0;34m=\u001b[0m \u001b[0mname\u001b[0m\u001b[0;34m\u001b[0m\u001b[0m\n",
      "\u001b[0;32m/anaconda/lib/python3.6/site-packages/pandas/io/parsers.py\u001b[0m in \u001b[0;36m_read\u001b[0;34m(filepath_or_buffer, kwds)\u001b[0m\n\u001b[1;32m    399\u001b[0m         \u001b[0;32mreturn\u001b[0m \u001b[0mparser\u001b[0m\u001b[0;34m\u001b[0m\u001b[0m\n\u001b[1;32m    400\u001b[0m \u001b[0;34m\u001b[0m\u001b[0m\n\u001b[0;32m--> 401\u001b[0;31m     \u001b[0mdata\u001b[0m \u001b[0;34m=\u001b[0m \u001b[0mparser\u001b[0m\u001b[0;34m.\u001b[0m\u001b[0mread\u001b[0m\u001b[0;34m(\u001b[0m\u001b[0;34m)\u001b[0m\u001b[0;34m\u001b[0m\u001b[0m\n\u001b[0m\u001b[1;32m    402\u001b[0m     \u001b[0mparser\u001b[0m\u001b[0;34m.\u001b[0m\u001b[0mclose\u001b[0m\u001b[0;34m(\u001b[0m\u001b[0;34m)\u001b[0m\u001b[0;34m\u001b[0m\u001b[0m\n\u001b[1;32m    403\u001b[0m     \u001b[0;32mreturn\u001b[0m \u001b[0mdata\u001b[0m\u001b[0;34m\u001b[0m\u001b[0m\n",
      "\u001b[0;32m/anaconda/lib/python3.6/site-packages/pandas/io/parsers.py\u001b[0m in \u001b[0;36mread\u001b[0;34m(self, nrows)\u001b[0m\n\u001b[1;32m    937\u001b[0m                 \u001b[0;32mraise\u001b[0m \u001b[0mValueError\u001b[0m\u001b[0;34m(\u001b[0m\u001b[0;34m'skipfooter not supported for iteration'\u001b[0m\u001b[0;34m)\u001b[0m\u001b[0;34m\u001b[0m\u001b[0m\n\u001b[1;32m    938\u001b[0m \u001b[0;34m\u001b[0m\u001b[0m\n\u001b[0;32m--> 939\u001b[0;31m         \u001b[0mret\u001b[0m \u001b[0;34m=\u001b[0m \u001b[0mself\u001b[0m\u001b[0;34m.\u001b[0m\u001b[0m_engine\u001b[0m\u001b[0;34m.\u001b[0m\u001b[0mread\u001b[0m\u001b[0;34m(\u001b[0m\u001b[0mnrows\u001b[0m\u001b[0;34m)\u001b[0m\u001b[0;34m\u001b[0m\u001b[0m\n\u001b[0m\u001b[1;32m    940\u001b[0m \u001b[0;34m\u001b[0m\u001b[0m\n\u001b[1;32m    941\u001b[0m         \u001b[0;32mif\u001b[0m \u001b[0mself\u001b[0m\u001b[0;34m.\u001b[0m\u001b[0moptions\u001b[0m\u001b[0;34m.\u001b[0m\u001b[0mget\u001b[0m\u001b[0;34m(\u001b[0m\u001b[0;34m'as_recarray'\u001b[0m\u001b[0;34m)\u001b[0m\u001b[0;34m:\u001b[0m\u001b[0;34m\u001b[0m\u001b[0m\n",
      "\u001b[0;32m/anaconda/lib/python3.6/site-packages/pandas/io/parsers.py\u001b[0m in \u001b[0;36mread\u001b[0;34m(self, nrows)\u001b[0m\n\u001b[1;32m   1506\u001b[0m     \u001b[0;32mdef\u001b[0m \u001b[0mread\u001b[0m\u001b[0;34m(\u001b[0m\u001b[0mself\u001b[0m\u001b[0;34m,\u001b[0m \u001b[0mnrows\u001b[0m\u001b[0;34m=\u001b[0m\u001b[0;32mNone\u001b[0m\u001b[0;34m)\u001b[0m\u001b[0;34m:\u001b[0m\u001b[0;34m\u001b[0m\u001b[0m\n\u001b[1;32m   1507\u001b[0m         \u001b[0;32mtry\u001b[0m\u001b[0;34m:\u001b[0m\u001b[0;34m\u001b[0m\u001b[0m\n\u001b[0;32m-> 1508\u001b[0;31m             \u001b[0mdata\u001b[0m \u001b[0;34m=\u001b[0m \u001b[0mself\u001b[0m\u001b[0;34m.\u001b[0m\u001b[0m_reader\u001b[0m\u001b[0;34m.\u001b[0m\u001b[0mread\u001b[0m\u001b[0;34m(\u001b[0m\u001b[0mnrows\u001b[0m\u001b[0;34m)\u001b[0m\u001b[0;34m\u001b[0m\u001b[0m\n\u001b[0m\u001b[1;32m   1509\u001b[0m         \u001b[0;32mexcept\u001b[0m \u001b[0mStopIteration\u001b[0m\u001b[0;34m:\u001b[0m\u001b[0;34m\u001b[0m\u001b[0m\n\u001b[1;32m   1510\u001b[0m             \u001b[0;32mif\u001b[0m \u001b[0mself\u001b[0m\u001b[0;34m.\u001b[0m\u001b[0m_first_chunk\u001b[0m\u001b[0;34m:\u001b[0m\u001b[0;34m\u001b[0m\u001b[0m\n",
      "\u001b[0;32mpandas/parser.pyx\u001b[0m in \u001b[0;36mpandas.parser.TextReader.read (pandas/parser.c:10415)\u001b[0;34m()\u001b[0m\n",
      "\u001b[0;32mpandas/parser.pyx\u001b[0m in \u001b[0;36mpandas.parser.TextReader._read_low_memory (pandas/parser.c:10691)\u001b[0;34m()\u001b[0m\n",
      "\u001b[0;32mpandas/parser.pyx\u001b[0m in \u001b[0;36mpandas.parser.TextReader._read_rows (pandas/parser.c:11728)\u001b[0;34m()\u001b[0m\n",
      "\u001b[0;32mpandas/parser.pyx\u001b[0m in \u001b[0;36mpandas.parser.TextReader._convert_column_data (pandas/parser.c:13162)\u001b[0;34m()\u001b[0m\n",
      "\u001b[0;32mpandas/parser.pyx\u001b[0m in \u001b[0;36mpandas.parser.TextReader._convert_tokens (pandas/parser.c:14116)\u001b[0;34m()\u001b[0m\n",
      "\u001b[0;32mpandas/parser.pyx\u001b[0m in \u001b[0;36mpandas.parser.TextReader._convert_with_dtype (pandas/parser.c:16172)\u001b[0;34m()\u001b[0m\n",
      "\u001b[0;32mpandas/parser.pyx\u001b[0m in \u001b[0;36mpandas.parser.TextReader._string_convert (pandas/parser.c:16400)\u001b[0;34m()\u001b[0m\n",
      "\u001b[0;32mpandas/parser.pyx\u001b[0m in \u001b[0;36mpandas.parser._string_box_utf8 (pandas/parser.c:22072)\u001b[0;34m()\u001b[0m\n",
      "\u001b[0;31mUnicodeDecodeError\u001b[0m: 'utf-8' codec can't decode byte 0x8e in position 6: invalid start byte"
     ]
    }
   ],
   "source": [
    "#data file\n",
    "df = pd.read_csv(\"~/Desktop/Travel/TRAVEL_MERGED.csv\")\n",
    "#df = pd.read_csv(\"/Users/gracepalma/Desktop/Travel/TRAVEL_MERGED.csv\")\n",
    "df.head(10)"
   ]
  },
  {
   "cell_type": "code",
   "execution_count": null,
   "metadata": {
    "collapsed": true
   },
   "outputs": [],
   "source": []
  }
 ],
 "metadata": {
  "kernelspec": {
   "display_name": "Python 3",
   "language": "python",
   "name": "python3"
  },
  "language_info": {
   "codemirror_mode": {
    "name": "ipython",
    "version": 3
   },
   "file_extension": ".py",
   "mimetype": "text/x-python",
   "name": "python",
   "nbconvert_exporter": "python",
   "pygments_lexer": "ipython3",
   "version": "3.6.0"
  }
 },
 "nbformat": 4,
 "nbformat_minor": 2
}
